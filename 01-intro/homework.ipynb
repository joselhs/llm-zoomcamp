{
 "cells": [
  {
   "cell_type": "code",
   "execution_count": 7,
   "id": "34d7250e-e281-48b9-afe7-de62dd633c33",
   "metadata": {},
   "outputs": [],
   "source": [
    "import openai\n",
    "import os"
   ]
  },
  {
   "cell_type": "code",
   "execution_count": 2,
   "id": "859458a5-bffe-4357-9f11-7d4add24540f",
   "metadata": {},
   "outputs": [],
   "source": [
    "from openai import OpenAI"
   ]
  },
  {
   "cell_type": "code",
   "execution_count": 3,
   "id": "68848c66-dee9-4016-8833-6780d17c7ddd",
   "metadata": {},
   "outputs": [],
   "source": [
    "client = OpenAI()"
   ]
  },
  {
   "cell_type": "code",
   "execution_count": 9,
   "id": "bf6584f6-79d7-49e3-bd94-efb20fa5a5c3",
   "metadata": {},
   "outputs": [],
   "source": [
    "response = client.chat.completions.create(\n",
    "    model='gpt-4o',\n",
    "    messages=[{\"role\": \"user\", \"content\": \"is it too late to join the course?\"}])"
   ]
  },
  {
   "cell_type": "code",
   "execution_count": 12,
   "id": "a30602fd-a28d-4e80-b698-753a1693a623",
   "metadata": {},
   "outputs": [
    {
     "data": {
      "text/plain": [
       "'It depends on the specific course and its enrollment deadlines. Some courses may allow late registration, while others may have strict cutoff dates. It would be best to check with the course provider, university, or institution offering the course to find out their specific policies regarding late enrollment. If there is still a possibility to join, they may also provide you with any necessary steps or requirements to complete the registration process.'"
      ]
     },
     "execution_count": 12,
     "metadata": {},
     "output_type": "execute_result"
    }
   ],
   "source": [
    "response.choices[0].message.content"
   ]
  },
  {
   "cell_type": "code",
   "execution_count": null,
   "id": "4bd1f2e6-efe1-4b3f-8068-a3795e2158d8",
   "metadata": {},
   "outputs": [],
   "source": []
  }
 ],
 "metadata": {
  "kernelspec": {
   "display_name": "Python 3 (ipykernel)",
   "language": "python",
   "name": "python3"
  },
  "language_info": {
   "codemirror_mode": {
    "name": "ipython",
    "version": 3
   },
   "file_extension": ".py",
   "mimetype": "text/x-python",
   "name": "python",
   "nbconvert_exporter": "python",
   "pygments_lexer": "ipython3",
   "version": "3.12.1"
  }
 },
 "nbformat": 4,
 "nbformat_minor": 5
}
